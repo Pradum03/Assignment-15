{
 "cells": [
  {
   "cell_type": "markdown",
   "id": "94c1e280-07ed-4a13-8a89-1136a95d608f",
   "metadata": {},
   "source": [
    "ASSIGNMENT: 15"
   ]
  },
  {
   "cell_type": "markdown",
   "id": "3f13a7b7-9f3b-44ae-ba86-2152d576c81a",
   "metadata": {},
   "source": [
    "1.  What is a database? Differentiate between SQL and NoSQL databases."
   ]
  },
  {
   "cell_type": "markdown",
   "id": "be3f9d01-d143-435e-a8bd-ab2fbdf718b6",
   "metadata": {},
   "source": [
    "A database is a collection of data that is organized and stored in a way that allows for efficient retrieval and manipulation of the data. Databases are used to store data for various applications such as websites, mobile apps, desktop applications, and more.\n",
    "\n",
    "SQL (Structured Query Language) and NoSQL (Not only SQL) are two types of databases that differ in their data storage models, query languages, and other characteristics.\n",
    "\n",
    "SQL databases are based on the relational model, where data is stored in tables with predefined columns and rows. SQL databases use SQL as the query language to manipulate and retrieve data from the database. SQL databases enforce strict data integrity rules, such as enforcing relationships between tables, enforcing data types for columns, and ensuring that data is unique and non-null.\n",
    "\n",
    "NoSQL databases, on the other hand, are based on non-relational models, where data is stored in documents, key-value pairs, graphs, or other formats. NoSQL databases do not enforce strict data integrity rules, and they do not use SQL as the query language. Instead, NoSQL databases often use flexible query languages or APIs that allow for more dynamic and complex querying of the data.\n",
    "\n",
    "Here are some of the key differences between SQL and NoSQL databases:\n",
    "\n",
    "Data Model: SQL databases use a tabular, relational data model, while NoSQL databases use a variety of non-relational models, such as document, key-value, or graph models.\n",
    "\n",
    "Query Language: SQL databases use SQL as the query language, while NoSQL databases use a variety of query languages or APIs depending on the specific database.\n",
    "\n",
    "Scalability: SQL databases are vertically scalable, meaning that they can be scaled up by adding more resources to a single server, while NoSQL databases are horizontally scalable, meaning that they can be scaled out by adding more servers to a distributed system.\n",
    "\n",
    "Data Integrity: SQL databases enforce strict data integrity rules, while NoSQL databases are more flexible and often sacrifice some data integrity for scalability and performance.\n",
    "\n",
    "Data Consistency: SQL databases are designed for strong data consistency, meaning that data is always in a consistent state across the database, while NoSQL databases often prioritize availability and partition tolerance over strong consistency.\n",
    "\n",
    "Use Cases: SQL databases are often used for applications that require strong data integrity, complex querying, and well-defined schemas, such as financial systems, e-commerce applications, and government systems, while NoSQL databases are often used for applications that require high scalability, low latency, and flexibility, such as social networks, mobile apps, and real-time analytics."
   ]
  },
  {
   "cell_type": "markdown",
   "id": "11838236-b78e-4e02-b741-7b4f2e4a038c",
   "metadata": {},
   "source": [
    "2.  What is DDL? Explain why CREATE, DROP, ALTER, and TRUNCATE are used with an example"
   ]
  },
  {
   "cell_type": "markdown",
   "id": "e07b07db-f3ad-4693-93fd-5b4bc22fa5ef",
   "metadata": {},
   "source": [
    "DDL (Data Definition Language) is a subset of SQL that is used to define and manipulate the structure of a database. DDL statements are used to create, modify, and delete database objects such as tables, indexes, views, and stored procedures."
   ]
  },
  {
   "cell_type": "markdown",
   "id": "9121e99e-aebe-43d7-a589-624cfe5d5bbf",
   "metadata": {},
   "source": [
    "CREATE: The CREATE statement is used to create new database objects such as tables, indexes, views, or stored procedures. For example, to create a new table named customers with columns for id, name, and email, you could use the following SQL statement:"
   ]
  },
  {
   "cell_type": "markdown",
   "id": "1927c095-3f3b-4077-9e69-162f95a5575e",
   "metadata": {},
   "source": [
    "CREATE TABLE customers (\n",
    "    id INT PRIMARY KEY,\n",
    "    name VARCHAR(50),\n",
    "    email VARCHAR(100)\n",
    ");\n"
   ]
  },
  {
   "cell_type": "markdown",
   "id": "d229561b-823a-44b2-af85-d4d0ce5ecbaf",
   "metadata": {},
   "source": [
    "DROP: The DROP statement is used to delete existing database objects such as tables, indexes, views, or stored procedures. For example, to delete the customers table created in the previous example, you could use the following SQL statement:"
   ]
  },
  {
   "cell_type": "markdown",
   "id": "944da02f-3fa6-41cc-bca5-2113dc8d5e4e",
   "metadata": {},
   "source": [
    "DROP TABLE customers;\n"
   ]
  },
  {
   "cell_type": "markdown",
   "id": "dfde810a-2278-4ab1-bf5b-1f3805c4c7b0",
   "metadata": {},
   "source": [
    "ALTER: The ALTER statement is used to modify the structure of an existing database object such as a table, view, or stored procedure. For example, to add a new column named phone to the customers table created earlier, you could use the following SQL statement:"
   ]
  },
  {
   "cell_type": "markdown",
   "id": "5250da4f-066f-48a1-a71d-8e7b6ac9f509",
   "metadata": {},
   "source": [
    "ALTER TABLE customers ADD phone VARCHAR(20);\n"
   ]
  },
  {
   "cell_type": "markdown",
   "id": "8f64aa4d-2c22-4ee9-a974-be17275a5fd1",
   "metadata": {},
   "source": [
    "TRUNCATE: The TRUNCATE statement is used to delete all the data from an existing table without deleting the table itself. For example, to delete all the data from the customers table created earlier, you could use the following SQL statement:"
   ]
  },
  {
   "cell_type": "markdown",
   "id": "9f27711b-97f6-4401-bb06-cf4ee42a5914",
   "metadata": {},
   "source": [
    "TRUNCATE TABLE customers;\n"
   ]
  },
  {
   "cell_type": "markdown",
   "id": "226a2281-4cb2-467b-b5b9-1665ebf78389",
   "metadata": {},
   "source": [
    "3. What is DML? Explain INSERT, UPDATE, and DELETE with an example.\n"
   ]
  },
  {
   "cell_type": "markdown",
   "id": "c53593a3-0657-43f9-b543-7d7481b185dd",
   "metadata": {},
   "source": [
    "DML stands for Data Manipulation Language, which is a subset of SQL (Structured Query Language) used to manipulate data in a database. DML commands are used to insert, update, delete, and retrieve data from a database."
   ]
  },
  {
   "cell_type": "markdown",
   "id": "7cc063af-f327-4118-ba66-588cd2c16c27",
   "metadata": {},
   "source": [
    "INSERT:\n",
    "The INSERT statement is used to add new data to a table. Here's an example:\n",
    "Suppose you have a table named \"customers\" with the following columns: customer_id, first_name, last_name, email, and phone_number. To add a new customer to the table, you would use the following INSERT statement:"
   ]
  },
  {
   "cell_type": "markdown",
   "id": "d5072b65-4a6a-4978-8eba-bc0487a2c244",
   "metadata": {},
   "source": [
    "INSERT INTO customers (first_name, last_name, email, phone_number) \n",
    "VALUES ('John', 'Doe', 'johndoe@email.com', '555-1234');\n"
   ]
  },
  {
   "cell_type": "markdown",
   "id": "d6954b1b-8a85-4898-9cb5-929a79f023e8",
   "metadata": {},
   "source": [
    "UPDATE:\n",
    "The UPDATE statement is used to modify existing data in a table. Here's an example:\n",
    "Suppose you want to update the phone number of a customer with the customer_id of 1234. To do this, you would use the following UPDATE statement:"
   ]
  },
  {
   "cell_type": "markdown",
   "id": "6bcd00a7-9b07-404d-8cb9-8f25758a64e7",
   "metadata": {},
   "source": [
    "UPDATE customers \n",
    "SET phone_number = '555-4321' \n",
    "WHERE customer_id = 1234;\n"
   ]
  },
  {
   "cell_type": "markdown",
   "id": "01242509-bdda-4447-b3f2-d319b8229ccf",
   "metadata": {},
   "source": [
    "DELETE:\n",
    "The DELETE statement is used to remove data from a table. Here's an example:\n",
    "Suppose you want to delete a customer with a customer_id of 5678. To do this, you would use the following DELETE statement:"
   ]
  },
  {
   "cell_type": "markdown",
   "id": "3ed6b5ce-590f-43ce-bd2c-2fb380cdf630",
   "metadata": {},
   "source": [
    "DELETE FROM customers \n",
    "WHERE customer_id = 5678;\n"
   ]
  },
  {
   "cell_type": "markdown",
   "id": "562649e5-88f0-44bb-8156-3b6553a90e8e",
   "metadata": {},
   "source": [
    "4. What is DQL? Explain SELECT with an example"
   ]
  },
  {
   "cell_type": "markdown",
   "id": "183e339f-4ac1-44a2-8748-ce5302c87b01",
   "metadata": {},
   "source": [
    "DQL stands for Data Query Language, which is a subset of SQL (Structured Query Language) used to retrieve data from a database. DQL commands are used to query and retrieve data from one or more tables in a database.\n",
    "\n",
    "The most commonly used DQL command is SELECT, which is used to retrieve data from a database. Here is an example of how to use SELECT:\n",
    "\n",
    "Suppose you have a table named \"employees\" with the following columns: employee_id, first_name, last_name, email, hire_date, and salary. To retrieve the first name and last name of all employees in the \"employees\" table, you would use the following SELECT statement:"
   ]
  },
  {
   "cell_type": "markdown",
   "id": "25ab235e-27d1-4600-9fe6-44bc548ff75b",
   "metadata": {},
   "source": [
    "SELECT first_name, last_name \n",
    "FROM employees;\n"
   ]
  },
  {
   "cell_type": "markdown",
   "id": "e1f0d006-656c-4cbe-bd38-6ce293308a7e",
   "metadata": {},
   "source": [
    "5. Explain Primary Key and Foreign Key"
   ]
  },
  {
   "cell_type": "markdown",
   "id": "b5288ec9-c6c2-481e-b9c6-c9033161cd89",
   "metadata": {},
   "source": [
    "In database design, a primary key and a foreign key are two important concepts used to establish relationships between tables.\n",
    "\n",
    "A primary key is a column or a set of columns in a table that uniquely identifies each row in that table. The values in a primary key column or columns must be unique and cannot be null. Primary keys are used to ensure the integrity of the data and to facilitate efficient searching and sorting of records. A table can have only one primary key."
   ]
  },
  {
   "cell_type": "markdown",
   "id": "1a82912d-8cf1-407e-a7bf-3f3c2f3a254f",
   "metadata": {},
   "source": [
    "A foreign key is a column or a set of columns in one table that refers to the primary key column or columns in another table. The purpose of a foreign key is to establish a relationship between two tables based on the values of the primary key column in one table and the foreign key column in another table."
   ]
  },
  {
   "cell_type": "markdown",
   "id": "0d8e5a2f-9ac1-4363-a379-12917ade7be1",
   "metadata": {},
   "source": [
    "6. Write a python code to connect MySQL to python. Explain the cursor() and execute() method."
   ]
  },
  {
   "cell_type": "code",
   "execution_count": 10,
   "id": "db3f9cba-1b1a-4cef-8886-faa07024d494",
   "metadata": {},
   "outputs": [
    {
     "name": "stdout",
     "output_type": "stream",
     "text": [
      "Requirement already satisfied: mysql-connector-python in /opt/conda/lib/python3.10/site-packages (8.0.32)\n",
      "Requirement already satisfied: protobuf<=3.20.3,>=3.11.0 in /opt/conda/lib/python3.10/site-packages (from mysql-connector-python) (3.20.3)\n",
      "Note: you may need to restart the kernel to use updated packages.\n"
     ]
    }
   ],
   "source": [
    "pip install mysql-connector-python\n"
   ]
  },
  {
   "cell_type": "code",
   "execution_count": 11,
   "id": "24cfbb56-b1a6-49e7-93ac-591389ee3f0d",
   "metadata": {},
   "outputs": [
    {
     "data": {
      "text/plain": [
       "'\\'\\'\\nimport mysql.connector\\n\\nmydb = mysql.connector.connect(\\n  host=\"localhost\",\\n  user=\"yourusername\",\\n  password=\"yourpassword\",\\n  database=\"yourdatabase\"\\n)\\n\\nmycursor = mydb.cursor()\\n\\nmycursor.execute(\"SELECT * FROM yourtable\")\\n\\nmyresult = mycursor.fetchall()\\n\\nfor x in myresult:\\n  print(x)\\n\\n'"
      ]
     },
     "execution_count": 11,
     "metadata": {},
     "output_type": "execute_result"
    }
   ],
   "source": [
    "'''''\n",
    "import mysql.connector\n",
    "\n",
    "mydb = mysql.connector.connect(\n",
    "  host=\"localhost\",\n",
    "  user=\"yourusername\",\n",
    "  password=\"yourpassword\",\n",
    "  database=\"yourdatabase\"\n",
    ")\n",
    "\n",
    "mycursor = mydb.cursor()\n",
    "\n",
    "mycursor.execute(\"SELECT * FROM yourtable\")\n",
    "\n",
    "myresult = mycursor.fetchall()\n",
    "\n",
    "for x in myresult:\n",
    "  print(x)\n",
    "\n",
    "'''''\n"
   ]
  },
  {
   "cell_type": "markdown",
   "id": "77d466d5-c535-4c47-b332-e500fb039a8d",
   "metadata": {},
   "source": [
    "In this example, we first import the mysql.connector module and use it to establish a connection to our MySQL database using the mysql.connector.connect() method. We pass in the database details such as the hostname, username, password, and database name to this method.\n",
    "\n",
    "We then create a cursor object using the cursor() method of the connection object. A cursor is an object that is used to execute queries on a database.\n",
    "\n",
    "The execute() method of the cursor object is used to execute SQL statements or queries. In this example, we execute a simple SELECT * statement to retrieve all the data from the specified table.\n",
    "\n",
    "The fetchall() method of the cursor object is used to fetch all the rows returned by the previous SELECT statement.\n",
    "\n",
    "Finally, we use a loop to iterate over the rows returned by the query and print them out.\n",
    "\n",
    "Note that there are several other methods and parameters that can be used with the cursor() and execute() methods depending on the specific requirements of your database and query. It is important to read the MySQL connector documentation thoroughly to understand how to use these methods effectively."
   ]
  },
  {
   "cell_type": "markdown",
   "id": "f222a5bb-caa1-40a7-86b8-b4f42a260cf8",
   "metadata": {},
   "source": [
    "6. Give the order of execution of SQL clauses in an SQL query"
   ]
  },
  {
   "cell_type": "markdown",
   "id": "a99bc686-b752-4ac3-ac82-4651afd9b702",
   "metadata": {},
   "source": [
    "The order of execution of SQL clauses in an SQL query is as follows:\n",
    "\n",
    "FROM: This clause specifies the table or tables from which data is retrieved.\n",
    "\n",
    "JOIN: This clause is used to join multiple tables based on a common column.\n",
    "\n",
    "WHERE: This clause is used to filter the data based on specified conditions.\n",
    "\n",
    "GROUP BY: This clause is used to group the data based on one or more columns.\n",
    "\n",
    "HAVING: This clause is used to filter the data based on the groups created by the GROUP BY clause.\n",
    "\n",
    "SELECT: This clause is used to select the columns to be retrieved from the table or tables.\n",
    "\n",
    "DISTINCT: This clause is used to eliminate duplicates from the result set.\n",
    "\n",
    "ORDER BY: This clause is used to sort the data in ascending or descending order based on one or more columns.\n",
    "\n",
    "LIMIT: This clause is used to limit the number of rows returned by the query."
   ]
  },
  {
   "cell_type": "code",
   "execution_count": null,
   "id": "a2c91d1b-1047-412c-9b6d-1781102f904a",
   "metadata": {},
   "outputs": [],
   "source": []
  }
 ],
 "metadata": {
  "kernelspec": {
   "display_name": "Python 3 (ipykernel)",
   "language": "python",
   "name": "python3"
  },
  "language_info": {
   "codemirror_mode": {
    "name": "ipython",
    "version": 3
   },
   "file_extension": ".py",
   "mimetype": "text/x-python",
   "name": "python",
   "nbconvert_exporter": "python",
   "pygments_lexer": "ipython3",
   "version": "3.10.8"
  }
 },
 "nbformat": 4,
 "nbformat_minor": 5
}
